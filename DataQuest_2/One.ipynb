{
 "cells": [
  {
   "cell_type": "markdown",
   "metadata": {},
   "source": [
    "# 2'nd part of the Data Science Tutorial\n",
    "- Learn more stuff\n",
    "- Use Functions\n",
    "- Discover Data Science"
   ]
  },
  {
   "cell_type": "code",
   "execution_count": null,
   "metadata": {
    "scrolled": true
   },
   "outputs": [],
   "source": [
    "# Imports\n",
    "\n",
    "from csv import reader"
   ]
  },
  {
   "cell_type": "code",
   "execution_count": null,
   "metadata": {
    "scrolled": true
   },
   "outputs": [],
   "source": [
    "# Possible data Sources\n",
    "\n",
    "dsource = ['googleplaystore.csv', 'AppleStore.csv']\n",
    "google_list = dsource[0]\n",
    "Apple_list = dsource[1]\n"
   ]
  },
  {
   "cell_type": "code",
   "execution_count": null,
   "metadata": {
    "scrolled": false
   },
   "outputs": [],
   "source": [
    "# Open the files and make the lists\n",
    "\n",
    "opened_file = open(Apple_list, encoding = 'utf-8')\n",
    "read_file = reader(opened_file)\n",
    "Apple = list(read_file)\n",
    "\n",
    "opened_file = open(google_list, encoding = 'utf-8')\n",
    "read_file = reader(opened_file)\n",
    "google = list(read_file)\n"
   ]
  },
  {
   "cell_type": "code",
   "execution_count": null,
   "metadata": {
    "scrolled": true
   },
   "outputs": [],
   "source": [
    "# function to grab a slice from a list of lists\n",
    "\n",
    "def explore_data(dataset, start, end, rows_and_columns=True):\n",
    "    dataset_slice = dataset[start:end]    \n",
    "    for row in dataset_slice:\n",
    "        print(row)\n",
    "        print('\\n') # adds a new (empty) line after each row\n",
    "\n",
    "    if rows_and_columns:\n",
    "        print('Number of rows:', len(dataset))\n",
    "        print('Number of columns:', len(dataset[0]), '\\n')"
   ]
  },
  {
   "cell_type": "code",
   "execution_count": null,
   "metadata": {
    "scrolled": true
   },
   "outputs": [],
   "source": [
    "# Look for ONLY Instagram duplicates in list of lists from the google data set\n",
    "\n",
    "for app in google:\n",
    "    name = app[0]    # assign index[0] of each list iteration to variable 'name'\n",
    "    if name == 'Instagram':\n",
    "        print(app)   # print the whole list of that iteration, no list was created\n"
   ]
  },
  {
   "cell_type": "code",
   "execution_count": null,
   "metadata": {
    "scrolled": true
   },
   "outputs": [],
   "source": [
    "# Look for All duplicates in list of lists from the google data set\n",
    "\n",
    "duplicate_apps = []\n",
    "unique_apps = []\n",
    "\n",
    "for app in google:\n",
    "    name = app[0]   \n",
    "    if name in unique_apps:\n",
    "        duplicate_apps.append(name)\n",
    "    else:\n",
    "        unique_apps.append(name)\n",
    "        \n",
    "print('Number of duplicate apps =', len(duplicate_apps))\n",
    "print('\\n')\n",
    "print('Examples of duplicate apps:', duplicate_apps[:15])\n"
   ]
  },
  {
   "cell_type": "code",
   "execution_count": null,
   "metadata": {
    "scrolled": true
   },
   "outputs": [],
   "source": [
    "# Boom! Action - Call the function explore_data on each list using three inputs - dataset, start, end\n",
    "\n",
    "print ('Apple' + ('\\n'))\n",
    "explore_data(Apple, 0, 3)\n",
    "print ('google' + ('\\n'))\n",
    "explore_data(google, 0 ,3)\n",
    "\n",
    "del google[10473]\n",
    "#this is a problem row, it's missing category [2]\n",
    "print (google[10473]) # Should see something different than below\n",
    "# ['Life Made WI-Fi Touchscreen Photo Frame', '1.9', '19', '3.0M', '1,000+', 'Free', '0', 'Everyone', '', 'February 11, 2018', '1.0.19', '4.0 and up']"
   ]
  },
  {
   "cell_type": "markdown",
   "metadata": {},
   "source": [
    "# Clean Dataset to do's  \n",
    "- There are several duplicate entities in the data sets - google has 1181!\n",
    "```python\n",
    "for app in google:\n",
    "    name = app[0]    \n",
    "    if name == 'Instagram':\n",
    "        print(app)\n",
    "```\n",
    "```\n",
    "['Instagram', 'SOCIAL', '4.5', '66577313', 'Varies with device', '1,000,000,000+', 'Free', '0', 'Teen', 'Social', 'July 31, 2018', 'Varies with device', 'Varies with device']\n",
    "['Instagram', 'SOCIAL', '4.5', '66577446', 'Varies with device', '1,000,000,000+', 'Free', '0', 'Teen', 'Social', 'July 31, 2018', 'Varies with device', 'Varies with device']\n",
    "['Instagram', 'SOCIAL', '4.5', '66577313', 'Varies with device', '1,000,000,000+', 'Free', '0', 'Teen', 'Social', 'July 31, 2018', 'Varies with device', 'Varies with device']\n",
    "['Instagram', 'SOCIAL', '4.5', '66509917', 'Varies with device', '1,000,000,000+', 'Free', '0', 'Teen', 'Social', 'July 31, 2018', 'Varies with device', 'Varies with device']\n",
    "```\n",
    "- We can see 4 Instagram entries here, they have different numbers of reviews.  We should use the highest rated  row as it was likely created most recently"
   ]
  },
  {
   "cell_type": "code",
   "execution_count": null,
   "metadata": {},
   "outputs": [],
   "source": []
  }
 ],
 "metadata": {
  "kernelspec": {
   "display_name": "Python 3",
   "language": "python",
   "name": "python3"
  },
  "language_info": {
   "codemirror_mode": {
    "name": "ipython",
    "version": 3
   },
   "file_extension": ".py",
   "mimetype": "text/x-python",
   "name": "python",
   "nbconvert_exporter": "python",
   "pygments_lexer": "ipython3",
   "version": "3.6.6"
  }
 },
 "nbformat": 4,
 "nbformat_minor": 2
}
